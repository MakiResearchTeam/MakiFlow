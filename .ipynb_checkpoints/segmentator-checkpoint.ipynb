{
 "cells": [
  {
   "cell_type": "code",
   "execution_count": 1,
   "metadata": {},
   "outputs": [],
   "source": [
    "import sys\n",
    "sys.path.append('/home/ikilbas/work_dir/MakiFlow')"
   ]
  },
  {
   "cell_type": "code",
   "execution_count": null,
   "metadata": {},
   "outputs": [],
   "source": [
    "from makiflow.layers import *\n",
    "from makiflow.models import Segmentator\n",
    "import numpy as np"
   ]
  },
  {
   "cell_type": "code",
   "execution_count": 3,
   "metadata": {},
   "outputs": [
    {
     "name": "stderr",
     "output_type": "stream",
     "text": [
      "W0802 14:41:14.281591 140568424277824 deprecation_wrapper.py:119] From /home/ikilbas/work_dir/MakiFlow/makiflow/layers.py:37: The name tf.placeholder is deprecated. Please use tf.compat.v1.placeholder instead.\n",
      "\n",
      "W0802 14:41:14.296388 140568424277824 deprecation_wrapper.py:119] From /home/ikilbas/work_dir/MakiFlow/makiflow/layers.py:490: The name tf.nn.max_pool is deprecated. Please use tf.nn.max_pool2d instead.\n",
      "\n"
     ]
    }
   ],
   "source": [
    "inl = InputLayer(input_shape=[1, 32, 32, 1], name='in1')\n",
    "x = ConvLayer(kw=3, kh=3, in_f=1, out_f=1, name='conv1')(inl)\n",
    "x = MaxPoolLayer(name='maxp1')(x)\n",
    "# 16x16\n",
    "x = ConvLayer(kw=3, kh=3, in_f=1, out_f=1, name='conv2')(x)\n",
    "x = MaxPoolLayer(name='maxp2')(x)\n",
    "# 8x8\n",
    "x = ConvLayer(kw=3, kh=3, in_f=1, out_f=1, name='conv3')(x)\n",
    "x = MaxPoolLayer(name='maxp3')(x)\n",
    "# 4x4\n",
    "x = UpConvLayer(kw=3, kh=3, in_f=1, out_f=1, name='upconv1')(x)\n",
    "x = ConvLayer(kw=3, kh=3, in_f=1, out_f=1, name='conv4')(x)\n",
    "# 8x8\n",
    "x = UpConvLayer(kw=3, kh=3, in_f=1, out_f=1, name='upconv2')(x)\n",
    "x = ConvLayer(kw=3, kh=3, in_f=1, out_f=1, name='conv5')(x)\n",
    "# 16x16\n",
    "x = UpConvLayer(kw=3, kh=3, in_f=1, out_f=1, name='upconv3')(x)\n",
    "x = ConvLayer(kw=3, kh=3, in_f=1, out_f=1, name='conv6')(x)\n",
    "# 32x32"
   ]
  },
  {
   "cell_type": "code",
   "execution_count": 4,
   "metadata": {},
   "outputs": [],
   "source": [
    "model = Segmentator(input_s=inl, output=x)"
   ]
  },
  {
   "cell_type": "code",
   "execution_count": 5,
   "metadata": {},
   "outputs": [
    {
     "name": "stderr",
     "output_type": "stream",
     "text": [
      "W0802 14:41:38.577275 140568424277824 deprecation_wrapper.py:119] From /home/ikilbas/work_dir/MakiFlow/makiflow/base/maki_entities.py:144: The name tf.variables_initializer is deprecated. Please use tf.compat.v1.variables_initializer instead.\n",
      "\n"
     ]
    }
   ],
   "source": [
    "model.set_session(tf.Session())"
   ]
  },
  {
   "cell_type": "code",
   "execution_count": null,
   "metadata": {},
   "outputs": [],
   "source": [
    "model.predict(np.random.randn(1, 32, 32, 1))"
   ]
  }
 ],
 "metadata": {
  "kernelspec": {
   "display_name": "Python 3",
   "language": "python",
   "name": "python3"
  },
  "language_info": {
   "codemirror_mode": {
    "name": "ipython",
    "version": 3
   },
   "file_extension": ".py",
   "mimetype": "text/x-python",
   "name": "python",
   "nbconvert_exporter": "python",
   "pygments_lexer": "ipython3",
   "version": "3.7.3"
  }
 },
 "nbformat": 4,
 "nbformat_minor": 2
}
