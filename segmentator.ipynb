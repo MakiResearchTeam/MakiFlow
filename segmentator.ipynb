{
 "cells": [
  {
   "cell_type": "code",
   "execution_count": 1,
   "metadata": {
    "pycharm": {
     "is_executing": false
    }
   },
   "outputs": [],
   "source": [
    "import sys\n",
    "sys.path.append('/home/ikilbas/work_dir/MakiFlow')"
   ]
  },
  {
   "cell_type": "code",
   "execution_count": 2,
   "metadata": {
    "pycharm": {
     "is_executing": false
    }
   },
   "outputs": [
    {
     "name": "stderr",
     "text": [
      "C:\\Users\\Banayaki\\Anaconda3\\lib\\site-packages\\tensorflow\\python\\framework\\dtypes.py:516: FutureWarning: Passing (type, 1) or '1type' as a synonym of type is deprecated; in a future version of numpy, it will be understood as (type, (1,)) / '(1,)type'.\n  _np_qint8 = np.dtype([(\"qint8\", np.int8, 1)])\nC:\\Users\\Banayaki\\Anaconda3\\lib\\site-packages\\tensorflow\\python\\framework\\dtypes.py:517: FutureWarning: Passing (type, 1) or '1type' as a synonym of type is deprecated; in a future version of numpy, it will be understood as (type, (1,)) / '(1,)type'.\n  _np_quint8 = np.dtype([(\"quint8\", np.uint8, 1)])\nC:\\Users\\Banayaki\\Anaconda3\\lib\\site-packages\\tensorflow\\python\\framework\\dtypes.py:518: FutureWarning: Passing (type, 1) or '1type' as a synonym of type is deprecated; in a future version of numpy, it will be understood as (type, (1,)) / '(1,)type'.\n  _np_qint16 = np.dtype([(\"qint16\", np.int16, 1)])\nC:\\Users\\Banayaki\\Anaconda3\\lib\\site-packages\\tensorflow\\python\\framework\\dtypes.py:519: FutureWarning: Passing (type, 1) or '1type' as a synonym of type is deprecated; in a future version of numpy, it will be understood as (type, (1,)) / '(1,)type'.\n  _np_quint16 = np.dtype([(\"quint16\", np.uint16, 1)])\nC:\\Users\\Banayaki\\Anaconda3\\lib\\site-packages\\tensorflow\\python\\framework\\dtypes.py:520: FutureWarning: Passing (type, 1) or '1type' as a synonym of type is deprecated; in a future version of numpy, it will be understood as (type, (1,)) / '(1,)type'.\n  _np_qint32 = np.dtype([(\"qint32\", np.int32, 1)])\nC:\\Users\\Banayaki\\Anaconda3\\lib\\site-packages\\tensorflow\\python\\framework\\dtypes.py:525: FutureWarning: Passing (type, 1) or '1type' as a synonym of type is deprecated; in a future version of numpy, it will be understood as (type, (1,)) / '(1,)type'.\n  np_resource = np.dtype([(\"resource\", np.ubyte, 1)])\n",
      "C:\\Users\\Banayaki\\Anaconda3\\lib\\site-packages\\tensorboard\\compat\\tensorflow_stub\\dtypes.py:541: FutureWarning: Passing (type, 1) or '1type' as a synonym of type is deprecated; in a future version of numpy, it will be understood as (type, (1,)) / '(1,)type'.\n  _np_qint8 = np.dtype([(\"qint8\", np.int8, 1)])\nC:\\Users\\Banayaki\\Anaconda3\\lib\\site-packages\\tensorboard\\compat\\tensorflow_stub\\dtypes.py:542: FutureWarning: Passing (type, 1) or '1type' as a synonym of type is deprecated; in a future version of numpy, it will be understood as (type, (1,)) / '(1,)type'.\n  _np_quint8 = np.dtype([(\"quint8\", np.uint8, 1)])\nC:\\Users\\Banayaki\\Anaconda3\\lib\\site-packages\\tensorboard\\compat\\tensorflow_stub\\dtypes.py:543: FutureWarning: Passing (type, 1) or '1type' as a synonym of type is deprecated; in a future version of numpy, it will be understood as (type, (1,)) / '(1,)type'.\n  _np_qint16 = np.dtype([(\"qint16\", np.int16, 1)])\nC:\\Users\\Banayaki\\Anaconda3\\lib\\site-packages\\tensorboard\\compat\\tensorflow_stub\\dtypes.py:544: FutureWarning: Passing (type, 1) or '1type' as a synonym of type is deprecated; in a future version of numpy, it will be understood as (type, (1,)) / '(1,)type'.\n  _np_quint16 = np.dtype([(\"quint16\", np.uint16, 1)])\nC:\\Users\\Banayaki\\Anaconda3\\lib\\site-packages\\tensorboard\\compat\\tensorflow_stub\\dtypes.py:545: FutureWarning: Passing (type, 1) or '1type' as a synonym of type is deprecated; in a future version of numpy, it will be understood as (type, (1,)) / '(1,)type'.\n  _np_qint32 = np.dtype([(\"qint32\", np.int32, 1)])\nC:\\Users\\Banayaki\\Anaconda3\\lib\\site-packages\\tensorboard\\compat\\tensorflow_stub\\dtypes.py:550: FutureWarning: Passing (type, 1) or '1type' as a synonym of type is deprecated; in a future version of numpy, it will be understood as (type, (1,)) / '(1,)type'.\n  np_resource = np.dtype([(\"resource\", np.ubyte, 1)])\nWARNING: Logging before flag parsing goes to stderr.\nW0804 13:14:03.470849  2824 deprecation_wrapper.py:119] From C:\\Users\\Banayaki\\Projects\\MakiFlow\\makiflow\\base\\maki_entities.py:142: The name tf.Session is deprecated. Please use tf.compat.v1.Session instead.\n\n"
     ],
     "output_type": "stream"
    }
   ],
   "source": [
    "from makiflow.layers import *\n",
    "from makiflow.models import Segmentator\n",
    "import numpy as np"
   ]
  },
  {
   "cell_type": "code",
   "execution_count": 3,
   "metadata": {
    "pycharm": {
     "is_executing": false
    }
   },
   "outputs": [
    {
     "name": "stderr",
     "text": [
      "W0804 13:14:04.785042  2824 deprecation_wrapper.py:119] From C:\\Users\\Banayaki\\Projects\\MakiFlow\\makiflow\\layers.py:37: The name tf.placeholder is deprecated. Please use tf.compat.v1.placeholder instead.\n\n",
      "W0804 13:14:04.793058  2824 deprecation_wrapper.py:119] From C:\\Users\\Banayaki\\Projects\\MakiFlow\\makiflow\\layers.py:490: The name tf.nn.max_pool is deprecated. Please use tf.nn.max_pool2d instead.\n\n"
     ],
     "output_type": "stream"
    }
   ],
   "source": [
    "inl = InputLayer(input_shape=[1, 32, 32, 1], name='in1')\n",
    "x = ConvLayer(kw=3, kh=3, in_f=1, out_f=1, name='conv1')(inl)\n",
    "x = MaxPoolLayer(name='maxp1')(x)\n",
    "# 16x16\n",
    "x = ConvLayer(kw=3, kh=3, in_f=1, out_f=1, name='conv2')(x)\n",
    "x = MaxPoolLayer(name='maxp2')(x)\n",
    "# 8x8\n",
    "x = ConvLayer(kw=3, kh=3, in_f=1, out_f=1, name='conv3')(x)\n",
    "x = MaxPoolLayer(name='maxp3')(x)\n",
    "# 4x4\n",
    "x = UpConvLayer(kw=3, kh=3, in_f=1, out_f=1, name='upconv1')(x)\n",
    "x = ConvLayer(kw=3, kh=3, in_f=1, out_f=1, name='conv4')(x)\n",
    "# 8x8\n",
    "x = UpConvLayer(kw=3, kh=3, in_f=1, out_f=1, name='upconv2')(x)\n",
    "x = ConvLayer(kw=3, kh=3, in_f=1, out_f=1, name='conv5')(x)\n",
    "# 16x16\n",
    "x = UpConvLayer(kw=3, kh=3, in_f=1, out_f=1, name='upconv3')(x)\n",
    "x = ConvLayer(kw=3, kh=3, in_f=1, out_f=1, name='conv6')(x)\n",
    "# 32x32"
   ]
  },
  {
   "cell_type": "code",
   "execution_count": 4,
   "metadata": {
    "pycharm": {
     "is_executing": false
    }
   },
   "outputs": [],
   "source": [
    "model = Segmentator(input_s=inl, output=x)"
   ]
  },
  {
   "cell_type": "code",
   "execution_count": 5,
   "metadata": {
    "pycharm": {
     "is_executing": false
    }
   },
   "outputs": [
    {
     "name": "stderr",
     "text": [
      "W0804 13:14:07.712206  2824 deprecation_wrapper.py:119] From C:\\Users\\Banayaki\\Projects\\MakiFlow\\makiflow\\base\\maki_entities.py:144: The name tf.variables_initializer is deprecated. Please use tf.compat.v1.variables_initializer instead.\n\n"
     ],
     "output_type": "stream"
    }
   ],
   "source": [
    "model.set_session(tf.Session())"
   ]
  },
  {
   "cell_type": "code",
   "execution_count": 6,
   "metadata": {
    "pycharm": {
     "is_executing": false
    }
   },
   "outputs": [
    {
     "data": {
      "text/plain": "array([[[[0.0000000e+00],\n         [0.0000000e+00],\n         [0.0000000e+00],\n         ...,\n         [0.0000000e+00],\n         [0.0000000e+00],\n         [0.0000000e+00]],\n\n        [[0.0000000e+00],\n         [0.0000000e+00],\n         [0.0000000e+00],\n         ...,\n         [0.0000000e+00],\n         [9.8357690e-05],\n         [0.0000000e+00]],\n\n        [[0.0000000e+00],\n         [0.0000000e+00],\n         [0.0000000e+00],\n         ...,\n         [0.0000000e+00],\n         [8.3527921e-05],\n         [0.0000000e+00]],\n\n        ...,\n\n        [[0.0000000e+00],\n         [0.0000000e+00],\n         [0.0000000e+00],\n         ...,\n         [0.0000000e+00],\n         [2.3761127e-02],\n         [0.0000000e+00]],\n\n        [[0.0000000e+00],\n         [0.0000000e+00],\n         [0.0000000e+00],\n         ...,\n         [0.0000000e+00],\n         [2.9002074e-02],\n         [0.0000000e+00]],\n\n        [[0.0000000e+00],\n         [0.0000000e+00],\n         [0.0000000e+00],\n         ...,\n         [0.0000000e+00],\n         [0.0000000e+00],\n         [0.0000000e+00]]]], dtype=float32)"
     },
     "metadata": {},
     "output_type": "execute_result",
     "execution_count": 6
    }
   ],
   "source": [
    "model.predict(np.random.randn(1, 32, 32, 1))"
   ]
  },
  {
   "cell_type": "code",
   "execution_count": null,
   "outputs": [],
   "source": [
    "\n"
   ],
   "metadata": {
    "collapsed": false,
    "pycharm": {
     "name": "#%%\n"
    }
   }
  }
 ],
 "metadata": {
  "kernelspec": {
   "display_name": "Python 3",
   "language": "python",
   "name": "python3"
  },
  "language_info": {
   "codemirror_mode": {
    "name": "ipython",
    "version": 3
   },
   "file_extension": ".py",
   "mimetype": "text/x-python",
   "name": "python",
   "nbconvert_exporter": "python",
   "pygments_lexer": "ipython3",
   "version": "3.7.3"
  },
  "pycharm": {
   "stem_cell": {
    "cell_type": "raw",
    "source": [],
    "metadata": {
     "collapsed": false
    }
   }
  }
 },
 "nbformat": 4,
 "nbformat_minor": 2
}